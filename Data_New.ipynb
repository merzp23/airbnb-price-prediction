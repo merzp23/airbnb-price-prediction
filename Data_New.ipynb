{
 "cells": [
  {
   "cell_type": "code",
   "execution_count": 1,
   "metadata": {
    "execution": {
     "iopub.execute_input": "2024-12-26T06:51:48.403085Z",
     "iopub.status.busy": "2024-12-26T06:51:48.402834Z",
     "iopub.status.idle": "2024-12-26T06:51:50.145880Z",
     "shell.execute_reply": "2024-12-26T06:51:50.145206Z",
     "shell.execute_reply.started": "2024-12-26T06:51:48.403056Z"
    },
    "trusted": true
   },
   "outputs": [],
   "source": [
    "import matplotlib.pyplot as plt\n",
    "import numpy as np\n",
    "import pandas as pd\n",
    "import math\n",
    "import datetime as dt\n",
    "from textblob import TextBlob\n",
    "import ast\n",
    "from textblob.sentiments import NaiveBayesAnalyzer"
   ]
  },
  {
   "cell_type": "markdown",
   "metadata": {},
   "source": [
    "## Sentiment analysis"
   ]
  },
  {
   "cell_type": "code",
   "execution_count": null,
   "metadata": {
    "trusted": true
   },
   "outputs": [],
   "source": [
    "reviews_sep = pd.read_csv('Data/reviews_sep.csv')\n",
    "reviews_aug = pd.read_csv('Data/reviews_aug.csv')\n",
    "reviews_oct = pd.read_csv('Data/reviews_oct.csv')\n",
    "reviews_nov = pd.read_csv('Data/reviews_nov.csv')\n",
    "reviews_raw= pd.concat([reviews_sep, reviews_aug, reviews_oct,reviews_nov], ignore_index=True)"
   ]
  },
  {
   "cell_type": "code",
   "execution_count": null,
   "metadata": {
    "trusted": true
   },
   "outputs": [],
   "source": [
    "# Drop columns that are not needed\n",
    "reviews_raw = pd.DataFrame.drop(reviews_raw, columns=[\n",
    "    'id',\n",
    "    'date',\n",
    "    'reviewer_id',\n",
    "    'reviewer_name'\n",
    "])\n",
    "\n",
    "def calculate_sentiment(entry):\n",
    "    #case where the entry is null\n",
    "    if (type(entry) != str and math.isnan(entry)):\n",
    "        return -55\n",
    "    opinion = TextBlob(entry)\n",
    "    #return the polarity of the text's sentiment\n",
    "    return opinion.sentiment.polarity\n",
    "\n",
    "# Apply the sentiment analysis to the comments\n",
    "reviews_raw['comments'] = reviews_raw['comments'].apply(calculate_sentiment)\n",
    "# Drop the null rows\n",
    "reviews_raw = reviews_raw[reviews_raw['comments'] != -55]\n",
    "# Get the average sentiment for each listing\n",
    "reviews_cleaned = reviews_raw.groupby('listing_id')['comments'].mean()\n",
    "\n",
    "reviews_cleaned.to_csv('Data/reviews_cleaned.csv')"
   ]
  },
  {
   "cell_type": "markdown",
   "metadata": {},
   "source": [
    "## Data cleaning"
   ]
  },
  {
   "cell_type": "code",
   "execution_count": null,
   "metadata": {
    "trusted": true
   },
   "outputs": [],
   "source": [
    "data_sep = pd.read_csv('Data/listings_sep.csv')\n",
    "data_aug = pd.read_csv('Data/listings_aug.csv')\n",
    "data_oct = pd.read_csv('Data/listings_oct.csv')\n",
    "data_nov = pd.read_csv('Data/listings_nov.csv')"
   ]
  },
  {
   "cell_type": "code",
   "execution_count": null,
   "metadata": {
    "trusted": true
   },
   "outputs": [],
   "source": [
    "data = pd.concat([data_sep, data_aug, data_oct,data_nov], ignore_index=True)"
   ]
  },
  {
   "cell_type": "code",
   "execution_count": null,
   "metadata": {
    "trusted": true
   },
   "outputs": [],
   "source": [
    "data.info()"
   ]
  },
  {
   "cell_type": "code",
   "execution_count": null,
   "metadata": {
    "trusted": true
   },
   "outputs": [],
   "source": [
    "data = data.drop(columns=['host_id','listing_url', 'scrape_id', 'last_scraped', 'source', 'name',\n",
    "       'description', 'neighborhood_overview', 'picture_url',\n",
    "       'host_url', 'host_name', 'host_location', 'host_about','host_response_time',\n",
    "        'host_thumbnail_url', 'host_picture_url','host_verifications',\n",
    "       'host_neighbourhood', 'host_listings_count',\n",
    "        'neighbourhood',\n",
    "       'bathrooms_text',\n",
    "       'minimum_minimum_nights',\n",
    "       'maximum_minimum_nights', 'minimum_maximum_nights',\n",
    "       'maximum_maximum_nights', 'minimum_nights_avg_ntm',\n",
    "       'maximum_nights_avg_ntm', 'calendar_updated',\n",
    "       'availability_30', 'availability_60', 'availability_90',\n",
    "       'availability_365', 'calendar_last_scraped',\n",
    "        'first_review',\n",
    "       'last_review',\n",
    "       'license',\n",
    "       'calculated_host_listings_count',\n",
    "       'calculated_host_listings_count_entire_homes',\n",
    "       'calculated_host_listings_count_private_rooms',\n",
    "       'calculated_host_listings_count_shared_rooms'],axis=1)"
   ]
  },
  {
   "cell_type": "code",
   "execution_count": null,
   "metadata": {
    "trusted": true
   },
   "outputs": [],
   "source": [
    "data.info()"
   ]
  },
  {
   "cell_type": "code",
   "execution_count": null,
   "metadata": {
    "trusted": true
   },
   "outputs": [],
   "source": [
    "data.head()"
   ]
  },
  {
   "cell_type": "code",
   "execution_count": null,
   "metadata": {
    "trusted": true
   },
   "outputs": [],
   "source": [
    "data = data.dropna(subset=['price'])\n",
    "len(data)"
   ]
  },
  {
   "cell_type": "code",
   "execution_count": null,
   "metadata": {
    "trusted": true
   },
   "outputs": [],
   "source": [
    "print(data['price'].head())"
   ]
  },
  {
   "cell_type": "code",
   "execution_count": null,
   "metadata": {
    "trusted": true
   },
   "outputs": [],
   "source": [
    "data['price'] = data['price'].replace(r'[\\$,]', '', regex=True).replace(',', '.', regex=True).astype(float)"
   ]
  },
  {
   "cell_type": "code",
   "execution_count": null,
   "metadata": {
    "trusted": true
   },
   "outputs": [],
   "source": [
    "data['price'].describe()"
   ]
  },
  {
   "cell_type": "code",
   "execution_count": null,
   "metadata": {
    "trusted": true
   },
   "outputs": [],
   "source": [
    "data['price'] = np.log1p(data['price'])"
   ]
  },
  {
   "cell_type": "code",
   "execution_count": null,
   "metadata": {
    "trusted": true
   },
   "outputs": [],
   "source": [
    "data['price'].describe()"
   ]
  },
  {
   "cell_type": "code",
   "execution_count": null,
   "metadata": {
    "trusted": true
   },
   "outputs": [],
   "source": [
    "data['price'].hist(bins=50)"
   ]
  },
  {
   "cell_type": "code",
   "execution_count": null,
   "metadata": {
    "trusted": true
   },
   "outputs": [],
   "source": [
    "data.plot(kind=\"scatter\", x=\"longitude\", y=\"latitude\", grid=True,\n",
    "s=data[\"price\"],\n",
    "c=data[\"price\"], cmap=\"jet\", colorbar=True,\n",
    "legend=True, sharex=False, figsize=(20,15))\n",
    "plt.show()"
   ]
  },
  {
   "cell_type": "code",
   "execution_count": null,
   "metadata": {
    "trusted": true
   },
   "outputs": [],
   "source": [
    "data['host_since'].head()"
   ]
  },
  {
   "cell_type": "code",
   "execution_count": null,
   "metadata": {
    "trusted": true
   },
   "outputs": [],
   "source": [
    "data['host_lifetime'] = pd.to_datetime(data['host_since']).apply(lambda x: (pd.to_datetime('today') - x).days)\n",
    "data.drop(columns=['host_since'], inplace=True)"
   ]
  },
  {
   "cell_type": "code",
   "execution_count": null,
   "metadata": {
    "trusted": true
   },
   "outputs": [],
   "source": [
    "data['host_response_rate'].head()"
   ]
  },
  {
   "cell_type": "code",
   "execution_count": null,
   "metadata": {
    "trusted": true
   },
   "outputs": [],
   "source": [
    "data['host_response_rate'] = data['host_response_rate'].fillna('0%').str.rstrip('%').astype('float') / 100.0\n",
    "data['host_acceptance_rate'] = data['host_acceptance_rate'].fillna('0%').str.rstrip('%').astype('float') / 100.0"
   ]
  },
  {
   "cell_type": "code",
   "execution_count": null,
   "metadata": {
    "trusted": true
   },
   "outputs": [],
   "source": [
    "def clean_booltype(entry):\n",
    "    if (entry == 't'):\n",
    "        return 1\n",
    "    else:\n",
    "        return 0"
   ]
  },
  {
   "cell_type": "code",
   "execution_count": null,
   "metadata": {
    "trusted": true
   },
   "outputs": [],
   "source": [
    "data['host_is_superhost'] = data['host_is_superhost'].apply(clean_booltype)\n",
    "data['host_has_profile_pic'] = data['host_has_profile_pic'].apply(clean_booltype)\n",
    "data['host_identity_verified'] = data['host_identity_verified'].apply(clean_booltype)\n",
    "data['has_availability'] = data['has_availability'].apply(clean_booltype)\n",
    "data['instant_bookable'] = data['instant_bookable'].apply(clean_booltype)"
   ]
  },
  {
   "cell_type": "code",
   "execution_count": null,
   "metadata": {
    "trusted": true
   },
   "outputs": [],
   "source": [
    "data.keys()"
   ]
  },
  {
   "cell_type": "code",
   "execution_count": null,
   "metadata": {
    "trusted": true
   },
   "outputs": [],
   "source": [
    "missing_data = data.isnull().sum()\n",
    "missing_data_percentage = (missing_data / len(data)) * 100\n",
    "missing_data_summary = pd.DataFrame({'Missing Values': missing_data, 'Percentage': missing_data_percentage})\n",
    "print(missing_data_summary.sort_values(by='Missing Values', ascending=False))"
   ]
  },
  {
   "cell_type": "code",
   "execution_count": null,
   "metadata": {
    "trusted": true
   },
   "outputs": [],
   "source": [
    "for x in ['review_scores_rating', 'review_scores_accuracy',\n",
    "       'review_scores_cleanliness', 'review_scores_checkin',\n",
    "       'review_scores_communication', 'review_scores_location',\n",
    "       'review_scores_value', 'reviews_per_month']:\n",
    "   data[x]= data[x].fillna(0)\n",
    "data.dropna(subset=['beds', 'bedrooms','bathrooms'], inplace=True)"
   ]
  },
  {
   "cell_type": "code",
   "execution_count": null,
   "metadata": {
    "trusted": true
   },
   "outputs": [],
   "source": [
    "reviews_cleaned = pd.read_csv('Data/reviews_cleaned.csv')"
   ]
  },
  {
   "cell_type": "code",
   "execution_count": null,
   "metadata": {
    "trusted": true
   },
   "outputs": [],
   "source": [
    "data = data.set_index('id').join(reviews_cleaned.set_index('listing_id'))\n",
    "data['comments'] = data['comments'].fillna(0)"
   ]
  },
  {
   "cell_type": "code",
   "execution_count": null,
   "metadata": {
    "trusted": true
   },
   "outputs": [],
   "source": [
    "data['comments'].describe()"
   ]
  },
  {
   "cell_type": "code",
   "execution_count": null,
   "metadata": {
    "trusted": true
   },
   "outputs": [],
   "source": [
    "data.info()"
   ]
  },
  {
   "cell_type": "code",
   "execution_count": null,
   "metadata": {
    "trusted": true
   },
   "outputs": [],
   "source": [
    "categorical_columns = data.select_dtypes(include=['object', 'category']).columns\n",
    "data[categorical_columns].nunique()"
   ]
  },
  {
   "cell_type": "code",
   "execution_count": null,
   "metadata": {
    "trusted": true
   },
   "outputs": [],
   "source": [
    "data = pd.get_dummies(data, columns=['property_type', 'room_type','neighbourhood_group_cleansed','neighbourhood_cleansed'])"
   ]
  },
  {
   "cell_type": "code",
   "execution_count": null,
   "metadata": {
    "trusted": true
   },
   "outputs": [],
   "source": [
    "from collections import Counter\n",
    "\n",
    "data['amenities'] = data['amenities'].apply(ast.literal_eval)\n",
    "\n",
    "amenities_list = [amenity for sublist in data['amenities'] for amenity in sublist]\n",
    "amenities_count = Counter(amenities_list)\n",
    "\n",
    "# Filter amenities with count > 100 (for demonstration, using a lower threshold)\n",
    "filtered_amenities = {amenity for amenity, count in amenities_count.items() if count > 100}\n",
    "# Create binary columns for each filtered amenity\n",
    "amenities_df = pd.DataFrame({amenity: data['amenities'].apply(lambda x: 1 if amenity in x else 0) for amenity in filtered_amenities})\n",
    "# Concatenate the new binary columns with the original DataFrame\n",
    "data = pd.concat([data, amenities_df], axis=1)\n",
    "\n",
    "data = data.drop(columns=['amenities'])"
   ]
  },
  {
   "cell_type": "code",
   "execution_count": null,
   "metadata": {
    "trusted": true
   },
   "outputs": [],
   "source": [
    "data.info()"
   ]
  },
  {
   "cell_type": "code",
   "execution_count": null,
   "metadata": {
    "trusted": true
   },
   "outputs": [],
   "source": [
    "data = pd.read_csv('Data/listings_cleaned.csv')"
   ]
  },
  {
   "cell_type": "code",
   "execution_count": null,
   "metadata": {
    "trusted": true
   },
   "outputs": [],
   "source": [
    "from sklearn.model_selection import train_test_split\n",
    "\n",
    "y = data['price']\n",
    "X = data.drop(columns=['price'])\n",
    "# Split the data into training + validation and testing sets (90% train+val, 10% test)\n",
    "X_train_val, X_test, y_train_val, y_test = train_test_split(X, y, test_size=0.1, random_state=42)\n",
    "\n",
    "# Further split the training + validation set into training and validation sets (11.1% val of the 90% train+val data, which is 10% of the original data)\n",
    "X_train, X_val, y_train, y_val = train_test_split(X_train_val, y_train_val, test_size=0.1111, random_state=42)\n",
    "\n",
    "# Print the sizes of the resulting DataFrames\n",
    "print(f\"Training Data: X_train: {X_train.shape}, y_train: {y_train.shape}\")\n",
    "print(f\"Validation Data: X_val: {X_val.shape}, y_val: {y_val.shape}\")\n",
    "print(f\"Testing Data: X_test: {X_test.shape}, y_test: {y_test.shape}\")"
   ]
  },
  {
   "cell_type": "code",
   "execution_count": null,
   "metadata": {
    "trusted": true
   },
   "outputs": [],
   "source": [
    "y = data ['price']\n",
    "X_train_val, X_test, y_train_val, y_test = train_test_split(X, y, test_size=0.1, random_state=42)\n",
    "# Further split the training + validation set into training and validation sets (11.1% val of the 90% train+val data, which is 10% of the original data)\n",
    "X_train, X_val, y_train, y_val = train_test_split(X_train_val, y_train_val, test_size=0.1111, random_state=42)\n",
    "print(f\"Training Data: X_train: {X_train.shape}, y_train: {y_train.shape}\")\n",
    "print(f\"Validation Data: X_val: {X_val.shape}, y_val: {y_val.shape}\")\n",
    "print(f\"Testing Data: X_test: {X_test.shape}, y_test: {y_test.shape}\")\n"
   ]
  },
  {
   "cell_type": "code",
   "execution_count": null,
   "metadata": {
    "trusted": true
   },
   "outputs": [],
   "source": [
    "X = pd.DataFrame(X)\n"
   ]
  },
  {
   "cell_type": "code",
   "execution_count": null,
   "metadata": {
    "trusted": true
   },
   "outputs": [],
   "source": [
    "from geopy.distance import geodesic\n",
    "nyc_center = (40.7128, -74.0060)\n",
    "X = data.apply(lambda row: geodesic((row['latitude'], row['longitude']), nyc_center).miles, axis=1)\n",
    "X['DistanceFromCenter'] = pd.DataFrame(X)"
   ]
  },
  {
   "cell_type": "code",
   "execution_count": null,
   "metadata": {
    "trusted": true
   },
   "outputs": [],
   "source": [
    "from sklearn.preprocessing import StandardScaler\n",
    "\n",
    "scaler = StandardScaler()\n",
    "X_train_standardized = scaler.fit_transform(X_train)\n",
    "X_val_standardized = scaler.transform(X_val)\n",
    "X_test_standardized = scaler.transform(X_test)\n",
    "\n",
    "# Convert the standardized arrays back to DataFrames\n",
    "X_train_standardized = pd.DataFrame(X_train_standardized)\n",
    "X_val_standardized = pd.DataFrame(X_val_standardized)\n",
    "X_test_standardized = pd.DataFrame(X_test_standardized)\n",
    "\n",
    "# Optimize memory usage by converting data types\n",
    "X_train_standardized = X_train_standardized.astype('float32')\n",
    "X_val_standardized = X_val_standardized.astype('float32')\n",
    "X_test_standardized = X_test_standardized.astype('float32')"
   ]
  },
  {
   "cell_type": "code",
   "execution_count": null,
   "metadata": {
    "trusted": true
   },
   "outputs": [],
   "source": [
    "X_train_standardized.to_csv('X_train.csv', index=False)\n",
    "X_val_standardized.to_csv('X_val.csv', index=False)\n",
    "X_test_standardized.to_csv('X_test.csv', index=False)\n",
    "y_train.to_csv('y_train.csv', index=False)\n",
    "y_val.to_csv('y_val.csv', index=False)\n",
    "y_test.to_csv('y_test.csv', index=False)"
   ]
  },
  {
   "cell_type": "code",
   "execution_count": null,
   "metadata": {
    "trusted": true
   },
   "outputs": [],
   "source": [
    "data.to_csv('Data/listings_cleaned.csv', index=False)"
   ]
  },
  {
   "cell_type": "markdown",
   "metadata": {},
   "source": [
    "## Feature Selection"
   ]
  },
  {
   "cell_type": "code",
   "execution_count": 3,
   "metadata": {
    "execution": {
     "iopub.execute_input": "2024-12-26T06:55:06.965983Z",
     "iopub.status.busy": "2024-12-26T06:55:06.965700Z",
     "iopub.status.idle": "2024-12-26T06:55:06.970875Z",
     "shell.execute_reply": "2024-12-26T06:55:06.969970Z",
     "shell.execute_reply.started": "2024-12-26T06:55:06.965962Z"
    },
    "trusted": true
   },
   "outputs": [
    {
     "name": "stdout",
     "output_type": "stream",
     "text": [
      "/kaggle/input/airbnb\n"
     ]
    }
   ],
   "source": [
    "%cd /kaggle/input/airbnb"
   ]
  },
  {
   "cell_type": "code",
   "execution_count": 4,
   "metadata": {
    "execution": {
     "iopub.execute_input": "2024-12-26T06:55:08.706452Z",
     "iopub.status.busy": "2024-12-26T06:55:08.706152Z",
     "iopub.status.idle": "2024-12-26T06:55:23.741570Z",
     "shell.execute_reply": "2024-12-26T06:55:23.740828Z",
     "shell.execute_reply.started": "2024-12-26T06:55:08.706429Z"
    },
    "trusted": true
   },
   "outputs": [],
   "source": [
    "X_train = pd.read_csv('X_train.csv')\n",
    "X_val = pd.read_csv('X_val.csv')\n",
    "X_test = pd.read_csv('X_test.csv')\n",
    "y_train = pd.read_csv('y_train.csv').values.ravel()\n",
    "y_val = pd.read_csv('y_val.csv').values.ravel()\n",
    "y_test = pd.read_csv('y_test.csv').values.ravel()"
   ]
  },
  {
   "cell_type": "code",
   "execution_count": 5,
   "metadata": {
    "execution": {
     "iopub.execute_input": "2024-12-26T06:55:23.742692Z",
     "iopub.status.busy": "2024-12-26T06:55:23.742471Z",
     "iopub.status.idle": "2024-12-26T06:55:23.747062Z",
     "shell.execute_reply": "2024-12-26T06:55:23.746318Z",
     "shell.execute_reply.started": "2024-12-26T06:55:23.742673Z"
    },
    "trusted": true
   },
   "outputs": [],
   "source": [
    "from sklearn.metrics import mean_absolute_error, mean_squared_error, r2_score\n",
    "def print_evaluation_metrics(trained_model, trained_model_name, X_test, y_test, type):\n",
    "    print('--------- For Model: ', trained_model_name, f' -----{type}---\\n',)\n",
    "    predicted_values = trained_model.predict(X_test)\n",
    "    print(\"Mean Absolute Error (MAE): \",\n",
    "          mean_absolute_error(y_test, predicted_values))\n",
    "    print(\"Mean Squared Error (MSE): \", mean_squared_error(\n",
    "        y_test, predicted_values))\n",
    "    print(\"R-squared (R²): \", r2_score(y_test, predicted_values))"
   ]
  },
  {
   "cell_type": "code",
   "execution_count": 6,
   "metadata": {
    "execution": {
     "iopub.execute_input": "2024-12-26T06:56:03.039872Z",
     "iopub.status.busy": "2024-12-26T06:56:03.039540Z",
     "iopub.status.idle": "2024-12-26T06:56:26.405693Z",
     "shell.execute_reply": "2024-12-26T06:56:26.404556Z",
     "shell.execute_reply.started": "2024-12-26T06:56:03.039845Z"
    },
    "trusted": true
   },
   "outputs": [
    {
     "name": "stdout",
     "output_type": "stream",
     "text": [
      "--------- For Model:  Lasso  -----train---\n",
      "\n",
      "Mean Absolute Error (MAE):  0.3139065634485807\n",
      "Mean Squared Error (MSE):  0.18666539288838122\n",
      "R-squared (R²):  0.7058825490054479\n",
      "--------- For Model:  Lasso  -----Test---\n",
      "\n",
      "Mean Absolute Error (MAE):  0.31574907281858255\n",
      "Mean Squared Error (MSE):  0.19664143494735853\n",
      "R-squared (R²):  0.6973424036493155\n"
     ]
    }
   ],
   "source": [
    "from sklearn.linear_model import Lasso\n",
    "\n",
    "best_alpha = 0.0004\n",
    "\n",
    "reg = Lasso(alpha=best_alpha, max_iter=10000)\n",
    "reg.fit(X_train, y_train)\n",
    "print_evaluation_metrics(reg, 'Lasso', X_train, y_train, 'train')\n",
    "print_evaluation_metrics(reg, 'Lasso', X_test, y_test, 'Test')"
   ]
  },
  {
   "cell_type": "code",
   "execution_count": 7,
   "metadata": {
    "execution": {
     "iopub.execute_input": "2024-12-26T06:58:16.809145Z",
     "iopub.status.busy": "2024-12-26T06:58:16.808771Z",
     "iopub.status.idle": "2024-12-26T06:58:16.928894Z",
     "shell.execute_reply": "2024-12-26T06:58:16.928097Z",
     "shell.execute_reply.started": "2024-12-26T06:58:16.809113Z"
    },
    "trusted": true
   },
   "outputs": [
    {
     "name": "stdout",
     "output_type": "stream",
     "text": [
      "Number of selected features: 596\n"
     ]
    }
   ],
   "source": [
    "#lasso\n",
    "selected_features_lasso = X_train.columns[reg.coef_!=0]\n",
    "print(f\"Number of selected features: {len(selected_features_lasso)}\")\n",
    "# Train Linear Regression model using selected features\n",
    "X_train_lasso = X_train[selected_features_lasso]\n",
    "X_test_lasso = X_test[selected_features_lasso]"
   ]
  },
  {
   "cell_type": "markdown",
   "metadata": {},
   "source": [
    "## Running Models"
   ]
  },
  {
   "cell_type": "code",
   "execution_count": 8,
   "metadata": {
    "execution": {
     "iopub.execute_input": "2024-12-26T06:58:23.662292Z",
     "iopub.status.busy": "2024-12-26T06:58:23.662009Z",
     "iopub.status.idle": "2024-12-26T06:58:23.667042Z",
     "shell.execute_reply": "2024-12-26T06:58:23.666188Z",
     "shell.execute_reply.started": "2024-12-26T06:58:23.662260Z"
    },
    "trusted": true
   },
   "outputs": [],
   "source": [
    "X_train = X_train_lasso\n",
    "X_test = X_test_lasso"
   ]
  },
  {
   "cell_type": "code",
   "execution_count": 20,
   "metadata": {
    "execution": {
     "iopub.execute_input": "2024-12-26T07:38:38.223954Z",
     "iopub.status.busy": "2024-12-26T07:38:38.223676Z",
     "iopub.status.idle": "2024-12-26T07:45:12.144397Z",
     "shell.execute_reply": "2024-12-26T07:45:12.143071Z",
     "shell.execute_reply.started": "2024-12-26T07:38:38.223932Z"
    },
    "trusted": true
   },
   "outputs": [
    {
     "name": "stdout",
     "output_type": "stream",
     "text": [
      "--------- For Model:  Ridge Regression  -----train---\n",
      "\n",
      "Mean Absolute Error (MAE):  0.31359008373353164\n",
      "Mean Squared Error (MSE):  0.18639248931579946\n",
      "R-squared (R²):  0.7063125467778955\n",
      "--------- For Model:  Ridge Regression  -----test---\n",
      "\n",
      "Mean Absolute Error (MAE):  0.3160260117212674\n",
      "Mean Squared Error (MSE):  0.1969445619746086\n",
      "R-squared (R²):  0.6968758504150951\n"
     ]
    }
   ],
   "source": [
    "from sklearn.linear_model import Ridge\n",
    "from sklearn.model_selection import GridSearchCV\n",
    "\n",
    "param_grid = {\n",
    "    'alpha': np.linspace(0.0001, 100, 100),\n",
    "}\n",
    "grid_search = GridSearchCV(Ridge(), param_grid, cv=5, scoring='neg_mean_squared_error')\n",
    "grid_search.fit(X_train, y_train)\n",
    "best_ridge = grid_search.best_estimator_\n",
    "\n",
    "# Evaluate the best model on the test set\n",
    "print_evaluation_metrics(best_ridge, 'Ridge Regression', X_train_lasso, y_train, 'train')\n",
    "print_evaluation_metrics(best_ridge, 'Ridge Regression', X_test_lasso, y_test, 'test')"
   ]
  },
  {
   "cell_type": "code",
   "execution_count": 21,
   "metadata": {
    "execution": {
     "iopub.execute_input": "2024-12-26T07:49:05.430781Z",
     "iopub.status.busy": "2024-12-26T07:49:05.430479Z",
     "iopub.status.idle": "2024-12-26T07:49:05.435584Z",
     "shell.execute_reply": "2024-12-26T07:49:05.434855Z",
     "shell.execute_reply.started": "2024-12-26T07:49:05.430758Z"
    },
    "trusted": true
   },
   "outputs": [
    {
     "name": "stdout",
     "output_type": "stream",
     "text": [
      "Best Parameters: {'alpha': 25.2526}\n"
     ]
    }
   ],
   "source": [
    "print(\"Best Parameters:\", grid_search.best_params_)"
   ]
  },
  {
   "cell_type": "code",
   "execution_count": 10,
   "metadata": {
    "execution": {
     "iopub.execute_input": "2024-12-26T06:58:54.157740Z",
     "iopub.status.busy": "2024-12-26T06:58:54.157442Z",
     "iopub.status.idle": "2024-12-26T06:58:59.014698Z",
     "shell.execute_reply": "2024-12-26T06:58:59.013327Z",
     "shell.execute_reply.started": "2024-12-26T06:58:54.157717Z"
    },
    "trusted": true
   },
   "outputs": [
    {
     "data": {
      "text/html": [
       "<style>#sk-container-id-1 {color: black;background-color: white;}#sk-container-id-1 pre{padding: 0;}#sk-container-id-1 div.sk-toggleable {background-color: white;}#sk-container-id-1 label.sk-toggleable__label {cursor: pointer;display: block;width: 100%;margin-bottom: 0;padding: 0.3em;box-sizing: border-box;text-align: center;}#sk-container-id-1 label.sk-toggleable__label-arrow:before {content: \"▸\";float: left;margin-right: 0.25em;color: #696969;}#sk-container-id-1 label.sk-toggleable__label-arrow:hover:before {color: black;}#sk-container-id-1 div.sk-estimator:hover label.sk-toggleable__label-arrow:before {color: black;}#sk-container-id-1 div.sk-toggleable__content {max-height: 0;max-width: 0;overflow: hidden;text-align: left;background-color: #f0f8ff;}#sk-container-id-1 div.sk-toggleable__content pre {margin: 0.2em;color: black;border-radius: 0.25em;background-color: #f0f8ff;}#sk-container-id-1 input.sk-toggleable__control:checked~div.sk-toggleable__content {max-height: 200px;max-width: 100%;overflow: auto;}#sk-container-id-1 input.sk-toggleable__control:checked~label.sk-toggleable__label-arrow:before {content: \"▾\";}#sk-container-id-1 div.sk-estimator input.sk-toggleable__control:checked~label.sk-toggleable__label {background-color: #d4ebff;}#sk-container-id-1 div.sk-label input.sk-toggleable__control:checked~label.sk-toggleable__label {background-color: #d4ebff;}#sk-container-id-1 input.sk-hidden--visually {border: 0;clip: rect(1px 1px 1px 1px);clip: rect(1px, 1px, 1px, 1px);height: 1px;margin: -1px;overflow: hidden;padding: 0;position: absolute;width: 1px;}#sk-container-id-1 div.sk-estimator {font-family: monospace;background-color: #f0f8ff;border: 1px dotted black;border-radius: 0.25em;box-sizing: border-box;margin-bottom: 0.5em;}#sk-container-id-1 div.sk-estimator:hover {background-color: #d4ebff;}#sk-container-id-1 div.sk-parallel-item::after {content: \"\";width: 100%;border-bottom: 1px solid gray;flex-grow: 1;}#sk-container-id-1 div.sk-label:hover label.sk-toggleable__label {background-color: #d4ebff;}#sk-container-id-1 div.sk-serial::before {content: \"\";position: absolute;border-left: 1px solid gray;box-sizing: border-box;top: 0;bottom: 0;left: 50%;z-index: 0;}#sk-container-id-1 div.sk-serial {display: flex;flex-direction: column;align-items: center;background-color: white;padding-right: 0.2em;padding-left: 0.2em;position: relative;}#sk-container-id-1 div.sk-item {position: relative;z-index: 1;}#sk-container-id-1 div.sk-parallel {display: flex;align-items: stretch;justify-content: center;background-color: white;position: relative;}#sk-container-id-1 div.sk-item::before, #sk-container-id-1 div.sk-parallel-item::before {content: \"\";position: absolute;border-left: 1px solid gray;box-sizing: border-box;top: 0;bottom: 0;left: 50%;z-index: -1;}#sk-container-id-1 div.sk-parallel-item {display: flex;flex-direction: column;z-index: 1;position: relative;background-color: white;}#sk-container-id-1 div.sk-parallel-item:first-child::after {align-self: flex-end;width: 50%;}#sk-container-id-1 div.sk-parallel-item:last-child::after {align-self: flex-start;width: 50%;}#sk-container-id-1 div.sk-parallel-item:only-child::after {width: 0;}#sk-container-id-1 div.sk-dashed-wrapped {border: 1px dashed gray;margin: 0 0.4em 0.5em 0.4em;box-sizing: border-box;padding-bottom: 0.4em;background-color: white;}#sk-container-id-1 div.sk-label label {font-family: monospace;font-weight: bold;display: inline-block;line-height: 1.2em;}#sk-container-id-1 div.sk-label-container {text-align: center;}#sk-container-id-1 div.sk-container {/* jupyter's `normalize.less` sets `[hidden] { display: none; }` but bootstrap.min.css set `[hidden] { display: none !important; }` so we also need the `!important` here to be able to override the default hidden behavior on the sphinx rendered scikit-learn.org. See: https://github.com/scikit-learn/scikit-learn/issues/21755 */display: inline-block !important;position: relative;}#sk-container-id-1 div.sk-text-repr-fallback {display: none;}</style><div id=\"sk-container-id-1\" class=\"sk-top-container\"><div class=\"sk-text-repr-fallback\"><pre>XGBRegressor(base_score=None, booster=None, callbacks=None,\n",
       "             colsample_bylevel=None, colsample_bynode=None,\n",
       "             colsample_bytree=None, device=None, early_stopping_rounds=None,\n",
       "             enable_categorical=False, eval_metric=None, feature_types=None,\n",
       "             gamma=None, grow_policy=None, importance_type=None,\n",
       "             interaction_constraints=None, learning_rate=None, max_bin=None,\n",
       "             max_cat_threshold=None, max_cat_to_onehot=None,\n",
       "             max_delta_step=None, max_depth=None, max_leaves=None,\n",
       "             min_child_weight=None, missing=nan, monotone_constraints=None,\n",
       "             multi_strategy=None, n_estimators=100, n_jobs=None,\n",
       "             num_parallel_tree=None, random_state=42, ...)</pre><b>In a Jupyter environment, please rerun this cell to show the HTML representation or trust the notebook. <br />On GitHub, the HTML representation is unable to render, please try loading this page with nbviewer.org.</b></div><div class=\"sk-container\" hidden><div class=\"sk-item\"><div class=\"sk-estimator sk-toggleable\"><input class=\"sk-toggleable__control sk-hidden--visually\" id=\"sk-estimator-id-1\" type=\"checkbox\" checked><label for=\"sk-estimator-id-1\" class=\"sk-toggleable__label sk-toggleable__label-arrow\">XGBRegressor</label><div class=\"sk-toggleable__content\"><pre>XGBRegressor(base_score=None, booster=None, callbacks=None,\n",
       "             colsample_bylevel=None, colsample_bynode=None,\n",
       "             colsample_bytree=None, device=None, early_stopping_rounds=None,\n",
       "             enable_categorical=False, eval_metric=None, feature_types=None,\n",
       "             gamma=None, grow_policy=None, importance_type=None,\n",
       "             interaction_constraints=None, learning_rate=None, max_bin=None,\n",
       "             max_cat_threshold=None, max_cat_to_onehot=None,\n",
       "             max_delta_step=None, max_depth=None, max_leaves=None,\n",
       "             min_child_weight=None, missing=nan, monotone_constraints=None,\n",
       "             multi_strategy=None, n_estimators=100, n_jobs=None,\n",
       "             num_parallel_tree=None, random_state=42, ...)</pre></div></div></div></div></div>"
      ],
      "text/plain": [
       "XGBRegressor(base_score=None, booster=None, callbacks=None,\n",
       "             colsample_bylevel=None, colsample_bynode=None,\n",
       "             colsample_bytree=None, device=None, early_stopping_rounds=None,\n",
       "             enable_categorical=False, eval_metric=None, feature_types=None,\n",
       "             gamma=None, grow_policy=None, importance_type=None,\n",
       "             interaction_constraints=None, learning_rate=None, max_bin=None,\n",
       "             max_cat_threshold=None, max_cat_to_onehot=None,\n",
       "             max_delta_step=None, max_depth=None, max_leaves=None,\n",
       "             min_child_weight=None, missing=nan, monotone_constraints=None,\n",
       "             multi_strategy=None, n_estimators=100, n_jobs=None,\n",
       "             num_parallel_tree=None, random_state=42, ...)"
      ]
     },
     "execution_count": 10,
     "metadata": {},
     "output_type": "execute_result"
    }
   ],
   "source": [
    "import xgboost as xgb\n",
    "\n",
    "model = xgb.XGBRegressor(objective='reg:squarederror', n_estimators=100, random_state=42)\n",
    "model.fit(X_train_lasso, y_train)"
   ]
  },
  {
   "cell_type": "code",
   "execution_count": 11,
   "metadata": {
    "execution": {
     "iopub.execute_input": "2024-12-26T06:59:01.153074Z",
     "iopub.status.busy": "2024-12-26T06:59:01.152794Z",
     "iopub.status.idle": "2024-12-26T06:59:01.532453Z",
     "shell.execute_reply": "2024-12-26T06:59:01.531700Z",
     "shell.execute_reply.started": "2024-12-26T06:59:01.153053Z"
    },
    "trusted": true
   },
   "outputs": [
    {
     "name": "stdout",
     "output_type": "stream",
     "text": [
      "--------- For Model:  XGBoost  -----Train---\n",
      "\n",
      "Mean Absolute Error (MAE):  0.1988542465099645\n",
      "Mean Squared Error (MSE):  0.076007033292292\n",
      "R-squared (R²):  0.8802402815879512\n",
      "--------- For Model:  XGBoost  -----Test---\n",
      "\n",
      "Mean Absolute Error (MAE):  0.21509833422524677\n",
      "Mean Squared Error (MSE):  0.09858916203546093\n",
      "R-squared (R²):  0.8482580295660034\n"
     ]
    }
   ],
   "source": [
    "print_evaluation_metrics(model, \"XGBoost\", X_train_lasso, y_train,\"Train\")\n",
    "print_evaluation_metrics(model, \"XGBoost\", X_test_lasso, y_test,\"Test\")"
   ]
  },
  {
   "cell_type": "code",
   "execution_count": null,
   "metadata": {
    "trusted": true
   },
   "outputs": [],
   "source": [
    "from sklearn.svm import SVR\n",
    "import joblib\n",
    "\n",
    "svm_model = SVR(gamma = 0.05, verbose = True) #best gamma 0.05, c=0.5\n",
    "svm_model.fit(X_train_lasso, y_train)"
   ]
  },
  {
   "cell_type": "code",
   "execution_count": 47,
   "metadata": {
    "execution": {
     "iopub.execute_input": "2024-12-26T05:19:05.110976Z",
     "iopub.status.busy": "2024-12-26T05:19:05.110640Z",
     "iopub.status.idle": "2024-12-26T05:19:05.116008Z",
     "shell.execute_reply": "2024-12-26T05:19:05.115006Z",
     "shell.execute_reply.started": "2024-12-26T05:19:05.110944Z"
    },
    "trusted": true
   },
   "outputs": [],
   "source": [
    "from hyperopt import STATUS_OK, Trials, fmin, hp, tpe\n",
    "import xgboost as xgb\n",
    "from sklearn.metrics import mean_squared_error, r2_score\n",
    "\n",
    "space = {\n",
    "    'max_depth': hp.quniform(\"max_depth\", 3, 18, 1),\n",
    "    'gamma': hp.uniform('gamma', 0, 9),\n",
    "    'reg_alpha': hp.quniform('reg_alpha', 0, 180, 1),\n",
    "    'reg_lambda': hp.uniform('reg_lambda', 0, 1),\n",
    "    'colsample_bytree': hp.uniform('colsample_bytree', 0.5, 1),\n",
    "    'min_child_weight': hp.quniform('min_child_weight', 0, 10, 1),\n",
    "    'n_estimators': 180,\n",
    "    'seed': 42\n",
    "}"
   ]
  },
  {
   "cell_type": "code",
   "execution_count": 48,
   "metadata": {
    "execution": {
     "iopub.execute_input": "2024-12-26T05:19:08.722445Z",
     "iopub.status.busy": "2024-12-26T05:19:08.722100Z",
     "iopub.status.idle": "2024-12-26T05:19:08.727812Z",
     "shell.execute_reply": "2024-12-26T05:19:08.726927Z",
     "shell.execute_reply.started": "2024-12-26T05:19:08.722417Z"
    },
    "trusted": true
   },
   "outputs": [],
   "source": [
    "# Define the objective function\n",
    "def objective(space):\n",
    "    clf = xgb.XGBRegressor(\n",
    "        n_estimators=int(space['n_estimators']),\n",
    "        max_depth=int(space['max_depth']),\n",
    "        gamma=space['gamma'],\n",
    "        reg_alpha=int(space['reg_alpha']),\n",
    "        reg_lambda=space['reg_lambda'],\n",
    "        min_child_weight=int(space['min_child_weight']),\n",
    "        colsample_bytree=space['colsample_bytree'],\n",
    "        seed=int(space['seed']), early_stopping_rounds=10, eval_metric=\"rmse\"\n",
    "    )\n",
    "    \n",
    "    evaluation = [(X_train, y_train), (X_test, y_test)]\n",
    "    \n",
    "    clf.fit(X_train, y_train,\n",
    "            eval_set=evaluation,\n",
    "             verbose=False)\n",
    "    \n",
    "    pred = clf.predict(X_test)\n",
    "    mse = mean_squared_error(y_test, pred)\n",
    "    r2 = r2_score(y_test, pred)\n",
    "    print(\"MSE:\", mse)\n",
    "    print(\"R-squared (R²):\", r2)\n",
    "    return {'loss': mse, 'status': STATUS_OK}"
   ]
  },
  {
   "cell_type": "code",
   "execution_count": 49,
   "metadata": {
    "execution": {
     "iopub.execute_input": "2024-12-26T05:19:23.978308Z",
     "iopub.status.busy": "2024-12-26T05:19:23.977969Z",
     "iopub.status.idle": "2024-12-26T05:33:00.327369Z",
     "shell.execute_reply": "2024-12-26T05:33:00.326612Z",
     "shell.execute_reply.started": "2024-12-26T05:19:23.978276Z"
    },
    "trusted": true
   },
   "outputs": [
    {
     "name": "stdout",
     "output_type": "stream",
     "text": [
      "MSE:                                                   \n",
      "0.13342025124925952                                    \n",
      "R-squared (R²):                                        \n",
      "0.7946483020813222                                     \n",
      "MSE:                                                                              \n",
      "0.17351837379072363                                                               \n",
      "R-squared (R²):                                                                   \n",
      "0.7329319024332849                                                                \n",
      "MSE:                                                                              \n",
      "0.17608024156037472                                                               \n",
      "R-squared (R²):                                                                   \n",
      "0.7289888436291296                                                                \n",
      "MSE:                                                                              \n",
      "0.14068017409790207                                                               \n",
      "R-squared (R²):                                                                   \n",
      "0.7834743051073387                                                                \n",
      "MSE:                                                                              \n",
      "0.17188636512005284                                                               \n",
      "R-squared (R²):                                                                   \n",
      "0.735443783114083                                                                 \n",
      "MSE:                                                                              \n",
      "0.17469774762908546                                                               \n",
      "R-squared (R²):                                                                   \n",
      "0.7311166875920535                                                                \n",
      "MSE:                                                                              \n",
      "0.1573683568497283                                                                \n",
      "R-squared (R²):                                                                   \n",
      "0.7577889490150136                                                                \n",
      "MSE:                                                                              \n",
      "0.15917013533944957                                                               \n",
      "R-squared (R²):                                                                   \n",
      "0.7550157697661875                                                                \n",
      "MSE:                                                                              \n",
      "0.165032077133285                                                                 \n",
      "R-squared (R²):                                                                   \n",
      "0.7459934535196406                                                                \n",
      "MSE:                                                                              \n",
      "0.17036792261567482                                                               \n",
      "R-squared (R²):                                                                   \n",
      "0.7377808702020348                                                                \n",
      "MSE:                                                                               \n",
      "0.1647439143794996                                                                 \n",
      "R-squared (R²):                                                                    \n",
      "0.7464369747258495                                                                 \n",
      "MSE:                                                                               \n",
      "0.15839127209320986                                                                \n",
      "R-squared (R²):                                                                    \n",
      "0.7562145449788272                                                                 \n",
      "MSE:                                                                               \n",
      "0.16835609684860434                                                                \n",
      "R-squared (R²):                                                                    \n",
      "0.7408773404403695                                                                 \n",
      "MSE:                                                                               \n",
      "0.1616851646879923                                                                 \n",
      "R-squared (R²):                                                                    \n",
      "0.751144801587049                                                                  \n",
      "MSE:                                                                               \n",
      "0.16814887939292755                                                                \n",
      "R-squared (R²):                                                                    \n",
      "0.7411962759540054                                                                 \n",
      "MSE:                                                                               \n",
      "0.16668202480081792                                                                \n",
      "R-squared (R²):                                                                    \n",
      "0.743453962311729                                                                  \n",
      "MSE:                                                                               \n",
      "0.15410537908884422                                                                \n",
      "R-squared (R²):                                                                    \n",
      "0.7628111103225697                                                                 \n",
      "MSE:                                                                               \n",
      "0.11015244482134673                                                                \n",
      "R-squared (R²):                                                                    \n",
      "0.83046058329108                                                                   \n",
      "MSE:                                                                               \n",
      "0.1739148698559271                                                                 \n",
      "R-squared (R²):                                                                    \n",
      "0.7323216417011604                                                                 \n",
      "MSE:                                                                               \n",
      "0.1459112137862859                                                                 \n",
      "R-squared (R²):                                                                    \n",
      "0.7754230319922645                                                                 \n",
      "MSE:                                                                               \n",
      "0.10339728857048629                                                                \n",
      "R-squared (R²):                                                                    \n",
      "0.8408576766320945                                                                 \n",
      "MSE:                                                                               \n",
      "0.1276099852644356                                                                 \n",
      "R-squared (R²):                                                                    \n",
      "0.8035910823127405                                                                 \n",
      "MSE:                                                                               \n",
      "0.07331035951114133                                                                \n",
      "R-squared (R²):                                                                    \n",
      "0.8871655040394394                                                                 \n",
      "MSE:                                                                               \n",
      "0.038545925751105194                                                               \n",
      "R-squared (R²):                                                                    \n",
      "0.9406726398225047                                                                 \n",
      "MSE:                                                                                \n",
      "0.12305942163576516                                                                 \n",
      "R-squared (R²):                                                                     \n",
      "0.8105950113181555                                                                  \n",
      "MSE:                                                                                \n",
      "0.1294911462072321                                                                  \n",
      "R-squared (R²):                                                                     \n",
      "0.8006957227998891                                                                  \n",
      "MSE:                                                                                \n",
      "0.14277374821881333                                                                 \n",
      "R-squared (R²):                                                                     \n",
      "0.7802520131657312                                                                  \n",
      "MSE:                                                                                \n",
      "0.11373560266178878                                                                 \n",
      "R-squared (R²):                                                                     \n",
      "0.8249456218099271                                                                  \n",
      "MSE:                                                                                \n",
      "0.10807938074836536                                                                 \n",
      "R-squared (R²):                                                                     \n",
      "0.8336513075124399                                                                  \n",
      "MSE:                                                                                \n",
      "0.12266893652113968                                                                 \n",
      "R-squared (R²):                                                                     \n",
      "0.8111960203894883                                                                  \n",
      "MSE:                                                                                \n",
      "0.08619636035138876                                                                 \n",
      "R-squared (R²):                                                                     \n",
      "0.8673322169098665                                                                  \n",
      "MSE:                                                                                \n",
      "0.12833253729095676                                                                 \n",
      "R-squared (R²):                                                                     \n",
      "0.8024789776352916                                                                  \n",
      "MSE:                                                                                \n",
      "0.15384914950733727                                                                 \n",
      "R-squared (R²):                                                                     \n",
      "0.7632054820849278                                                                  \n",
      "MSE:                                                                                \n",
      "0.1554707309055724                                                                  \n",
      "R-squared (R²):                                                                     \n",
      "0.7607096503777995                                                                  \n",
      "MSE:                                                                                \n",
      "0.11016150353086591                                                                 \n",
      "R-squared (R²):                                                                     \n",
      "0.830446640719669                                                                   \n",
      "MSE:                                                                                \n",
      "0.13262648996502593                                                                 \n",
      "R-squared (R²):                                                                     \n",
      "0.7958700073766822                                                                  \n",
      "MSE:                                                                                \n",
      "0.10367310825794238                                                                 \n",
      "R-squared (R²):                                                                     \n",
      "0.8404331530638344                                                                  \n",
      "MSE:                                                                                \n",
      "0.09129321308516412                                                                 \n",
      "R-squared (R²):                                                                     \n",
      "0.8594874755522232                                                                  \n",
      "MSE:                                                                                \n",
      "0.17742293443164805                                                                 \n",
      "R-squared (R²):                                                                     \n",
      "0.7269222588467028                                                                  \n",
      "MSE:                                                                                \n",
      "0.1590257209799416                                                                  \n",
      "R-squared (R²):                                                                     \n",
      "0.7552380428742886                                                                  \n",
      "MSE:                                                                                \n",
      "0.13532126753701043                                                                 \n",
      "R-squared (R²):                                                                     \n",
      "0.7917223825240925                                                                  \n",
      "MSE:                                                                                \n",
      "0.14927690192300067                                                                 \n",
      "R-squared (R²):                                                                     \n",
      "0.7702427856123659                                                                  \n",
      "MSE:                                                                                \n",
      "0.11418569679724594                                                                 \n",
      "R-squared (R²):                                                                     \n",
      "0.8242528664442766                                                                  \n",
      "MSE:                                                                                \n",
      "0.14364691549011507                                                                 \n",
      "R-squared (R²):                                                                     \n",
      "0.778908091384368                                                                   \n",
      "MSE:                                                                                \n",
      "0.15388081446378848                                                                 \n",
      "R-squared (R²):                                                                     \n",
      "0.7631567454612826                                                                  \n",
      "MSE:                                                                                \n",
      "0.14448887984118258                                                                 \n",
      "R-squared (R²):                                                                     \n",
      "0.7776121950908159                                                                  \n",
      "MSE:                                                                                \n",
      "0.16401595653914686                                                                 \n",
      "R-squared (R²):                                                                     \n",
      "0.7475573996773088                                                                  \n",
      "MSE:                                                                                \n",
      "0.1655691344126142                                                                  \n",
      "R-squared (R²):                                                                     \n",
      "0.7451668501880084                                                                  \n",
      "MSE:                                                                                \n",
      "0.13413198934407317                                                                 \n",
      "R-squared (R²):                                                                     \n",
      "0.7935528414981283                                                                  \n",
      "MSE:                                                                                \n",
      "0.15705874973386372                                                                 \n",
      "R-squared (R²):                                                                     \n",
      "0.7582654759765145                                                                  \n",
      "MSE:                                                                                \n",
      "0.1185812737865278                                                                  \n",
      "R-squared (R²):                                                                     \n",
      "0.8174874827065788                                                                  \n",
      "MSE:                                                                                \n",
      "0.15190779656545314                                                                 \n",
      "R-squared (R²):                                                                     \n",
      "0.7661934851739831                                                                  \n",
      "MSE:                                                                                \n",
      "0.15458614818789984                                                                 \n",
      "R-squared (R²):                                                                     \n",
      "0.7620711420653261                                                                  \n",
      "MSE:                                                                                \n",
      "0.14482044451476841                                                                 \n",
      "R-squared (R²):                                                                     \n",
      "0.777101872496958                                                                   \n",
      "MSE:                                                                                \n",
      "0.1640311454550087                                                                  \n",
      "R-squared (R²):                                                                     \n",
      "0.7475340218944567                                                                  \n",
      "MSE:                                                                                \n",
      "0.14578115279885576                                                                 \n",
      "R-squared (R²):                                                                     \n",
      "0.7756232133316914                                                                  \n",
      "MSE:                                                                                \n",
      "0.15428798525387027                                                                 \n",
      "R-squared (R²):                                                                     \n",
      "0.7625300548929222                                                                  \n",
      "MSE:                                                                                \n",
      "0.14787621805264245                                                                 \n",
      "R-squared (R²):                                                                     \n",
      "0.7723986263361853                                                                  \n",
      "MSE:                                                                                \n",
      "0.14840962751119718                                                                 \n",
      "R-squared (R²):                                                                     \n",
      "0.7715776374909803                                                                  \n",
      "MSE:                                                                                \n",
      "0.14614881915418332                                                                 \n",
      "R-squared (R²):                                                                     \n",
      "0.7750573253976849                                                                  \n",
      "MSE:                                                                                \n",
      "0.1533069753000902                                                                  \n",
      "R-squared (R²):                                                                     \n",
      "0.764039961056324                                                                   \n",
      "MSE:                                                                                \n",
      "0.12018130544482991                                                                 \n",
      "R-squared (R²):                                                                     \n",
      "0.8150248189454221                                                                  \n",
      "MSE:                                                                                \n",
      "0.16391017675651143                                                                 \n",
      "R-squared (R²):                                                                     \n",
      "0.7477202089792421                                                                  \n",
      "MSE:                                                                                \n",
      "0.11929466973986982                                                                 \n",
      "R-squared (R²):                                                                     \n",
      "0.8163894704562991                                                                  \n",
      "MSE:                                                                                \n",
      "0.13683119597119686                                                                 \n",
      "R-squared (R²):                                                                     \n",
      "0.7893983997344289                                                                  \n",
      "MSE:                                                                                \n",
      "0.0881534180015391                                                                  \n",
      "R-squared (R²):                                                                     \n",
      "0.8643200421641279                                                                  \n",
      "MSE:                                                                                \n",
      "0.038565904144458485                                                                \n",
      "R-squared (R²):                                                                     \n",
      "0.9406418903901032                                                                  \n",
      "MSE:                                                                                \n",
      "0.09308240186558468                                                                 \n",
      "R-squared (R²):                                                                     \n",
      "0.8567336735580267                                                                  \n",
      "MSE:                                                                                \n",
      "0.11785850087204405                                                                 \n",
      "R-squared (R²):                                                                     \n",
      "0.8185999273602886                                                                  \n",
      "MSE:                                                                                \n",
      "0.11151019340669563                                                                 \n",
      "R-squared (R²):                                                                     \n",
      "0.8283708257412521                                                                  \n",
      "MSE:                                                                                \n",
      "0.12922637666059222                                                                 \n",
      "R-squared (R²):                                                                     \n",
      "0.8011032387163303                                                                  \n",
      "MSE:                                                                                \n",
      "0.09670183114584038                                                                 \n",
      "R-squared (R²):                                                                     \n",
      "0.8511628854562376                                                                  \n",
      "MSE:                                                                                \n",
      "0.10843124334118588                                                                 \n",
      "R-squared (R²):                                                                     \n",
      "0.8331097436929057                                                                  \n",
      "MSE:                                                                                \n",
      "0.13649875062221126                                                                 \n",
      "R-squared (R²):                                                                     \n",
      "0.789910077806087                                                                   \n",
      "MSE:                                                                                \n",
      "0.14129876143199002                                                                 \n",
      "R-squared (R²):                                                                     \n",
      "0.7825222160640597                                                                  \n",
      "MSE:                                                                                \n",
      "0.12311177905993213                                                                 \n",
      "R-squared (R²):                                                                     \n",
      "0.8105144262056958                                                                  \n",
      "MSE:                                                                                \n",
      "0.09768225314439023                                                                 \n",
      "R-squared (R²):                                                                     \n",
      "0.8496538842349545                                                                  \n",
      "MSE:                                                                                \n",
      "0.1419326735586711                                                                  \n",
      "R-squared (R²):                                                                     \n",
      "0.7815465401053778                                                                  \n",
      "MSE:                                                                                \n",
      "0.09987019015287175                                                                 \n",
      "R-squared (R²):                                                                     \n",
      "0.8462863551273124                                                                  \n",
      "MSE:                                                                                \n",
      "0.12813149979925142                                                                 \n",
      "R-squared (R²):                                                                     \n",
      "0.8027884013538085                                                                  \n",
      "MSE:                                                                                \n",
      "0.13083013967601897                                                                 \n",
      "R-squared (R²):                                                                     \n",
      "0.7986348318950766                                                                  \n",
      "MSE:                                                                                \n",
      "0.15615934273608117                                                                 \n",
      "R-squared (R²):                                                                     \n",
      "0.7596497842234653                                                                  \n",
      "MSE:                                                                                \n",
      "0.15428376911828395                                                                 \n",
      "R-squared (R²):                                                                     \n",
      "0.7625365440922245                                                                  \n",
      "MSE:                                                                                \n",
      "0.15801623791408506                                                                 \n",
      "R-squared (R²):                                                                     \n",
      "0.7567917729838692                                                                  \n",
      "MSE:                                                                                \n",
      "0.1394809421319106                                                                  \n",
      "R-squared (R²):                                                                     \n",
      "0.7853200842758595                                                                  \n",
      "MSE:                                                                                \n",
      "0.12092702922322515                                                                 \n",
      "R-squared (R²):                                                                     \n",
      "0.8138770498276313                                                                  \n",
      "MSE:                                                                                \n",
      "0.08846581568586212                                                                 \n",
      "R-squared (R²):                                                                     \n",
      "0.8638392201427263                                                                  \n",
      "MSE:                                                                                \n",
      "0.14640913303923922                                                                 \n",
      "R-squared (R²):                                                                     \n",
      "0.7746566673432478                                                                  \n",
      "MSE:                                                                                \n",
      "0.055039214740173564                                                                \n",
      "R-squared (R²):                                                                     \n",
      "0.9152872514241492                                                                  \n",
      "MSE:                                                                                \n",
      "0.15459344752604315                                                                 \n",
      "R-squared (R²):                                                                     \n",
      "0.7620599074029164                                                                  \n",
      "MSE:                                                                                \n",
      "0.13561920021087426                                                                 \n",
      "R-squared (R²):                                                                     \n",
      "0.7912638240978377                                                                  \n",
      "MSE:                                                                                \n",
      "0.15888727870254307                                                                 \n",
      "R-squared (R²):                                                                     \n",
      "0.755451124145395                                                                   \n",
      "MSE:                                                                                \n",
      "0.11740800232971745                                                                 \n",
      "R-squared (R²):                                                                     \n",
      "0.8192933051624622                                                                  \n",
      "MSE:                                                                                \n",
      "0.13674813566644717                                                                 \n",
      "R-squared (R²):                                                                     \n",
      "0.7895262407064725                                                                  \n",
      "MSE:                                                                                \n",
      "0.1116853257963398                                                                  \n",
      "R-squared (R²):                                                                     \n",
      "0.8281012734563684                                                                  \n",
      "MSE:                                                                                \n",
      "0.1373011660279761                                                                  \n",
      "R-squared (R²):                                                                     \n",
      "0.7886750526546048                                                                  \n",
      "MSE:                                                                                \n",
      "0.1612860900928679                                                                  \n",
      "R-squared (R²):                                                                     \n",
      "0.7517590310232678                                                                  \n",
      "MSE:                                                                                \n",
      "0.11381843123726214                                                                 \n",
      "R-squared (R²):                                                                     \n",
      "0.8248181375003836                                                                  \n",
      "MSE:                                                                                \n",
      "0.1534120538716493                                                                  \n",
      "R-squared (R²):                                                                     \n",
      "0.7638782310124776                                                                  \n",
      "MSE:                                                                                \n",
      "0.1705381262186301                                                                  \n",
      "R-squared (R²):                                                                     \n",
      "0.7375189039822782                                                                  \n",
      "MSE:                                                                                 \n",
      "0.1590873648146652                                                                   \n",
      "R-squared (R²):                                                                      \n",
      "0.7551431647279189                                                                   \n",
      "MSE:                                                                                 \n",
      "0.1278177301227723                                                                   \n",
      "R-squared (R²):                                                                      \n",
      "0.8032713350555297                                                                   \n",
      "MSE:                                                                                 \n",
      "0.08799386724888361                                                                  \n",
      "R-squared (R²):                                                                      \n",
      "0.8645656122155648                                                                   \n",
      "MSE:                                                                                 \n",
      "0.15536597479825748                                                                  \n",
      "R-squared (R²):                                                                      \n",
      "0.7608708841058359                                                                   \n",
      "MSE:                                                                                 \n",
      "0.12794727621957014                                                                  \n",
      "R-squared (R²):                                                                      \n",
      "0.8030719462019855                                                                   \n",
      "MSE:                                                                                 \n",
      "0.15169647876373651                                                                  \n",
      "R-squared (R²):                                                                      \n",
      "0.7665187316712475                                                                   \n",
      "MSE:                                                                                 \n",
      "0.1662910282551391                                                                   \n",
      "R-squared (R²):                                                                      \n",
      "0.7440557585441876                                                                   \n",
      "MSE:                                                                                 \n",
      "0.12624072771373232                                                                  \n",
      "R-squared (R²):                                                                      \n",
      "0.8056985537070162                                                                   \n",
      "MSE:                                                                                 \n",
      "0.10505720359705255                                                                  \n",
      "R-squared (R²):                                                                      \n",
      "0.8383028443190501                                                                   \n",
      "MSE:                                                                                 \n",
      "0.1381202791149271                                                                   \n",
      "R-squared (R²):                                                                      \n",
      "0.7874143275276633                                                                   \n",
      "MSE:                                                                                 \n",
      "0.1349407446863842                                                                   \n",
      "R-squared (R²):                                                                      \n",
      "0.7923080583322347                                                                   \n",
      "MSE:                                                                                 \n",
      "0.14035260441238512                                                                  \n",
      "R-squared (R²):                                                                      \n",
      "0.7839784788776453                                                                   \n",
      "MSE:                                                                                 \n",
      "0.14292874947590195                                                                  \n",
      "R-squared (R²):                                                                      \n",
      "0.7800134453994091                                                                   \n",
      "MSE:                                                                                 \n",
      "0.13274943123286403                                                                  \n",
      "R-squared (R²):                                                                      \n",
      "0.7956807842425744                                                                   \n",
      "MSE:                                                                                 \n",
      "0.14601540884695688                                                                  \n",
      "R-squared (R²):                                                                      \n",
      "0.7752626617904159                                                                   \n",
      "MSE:                                                                                 \n",
      "0.128085272040508                                                                    \n",
      "R-squared (R²):                                                                      \n",
      "0.8028595520873745                                                                   \n",
      "MSE:                                                                                 \n",
      "0.12204717504957513                                                                  \n",
      "R-squared (R²):                                                                      \n",
      "0.8121529948569376                                                                   \n",
      "MSE:                                                                                 \n",
      "0.16679707065149615                                                                  \n",
      "R-squared (R²):                                                                      \n",
      "0.7432768912857486                                                                   \n",
      "MSE:                                                                                 \n",
      "0.040496865229770834                                                                 \n",
      "R-squared (R²):                                                                      \n",
      "0.9376698817649434                                                                   \n",
      "MSE:                                                                                 \n",
      "0.15712671150184862                                                                  \n",
      "R-squared (R²):                                                                      \n",
      "0.7581608736817461                                                                   \n",
      "MSE:                                                                                 \n",
      "0.13132864125783325                                                                  \n",
      "R-squared (R²):                                                                      \n",
      "0.7978675709636798                                                                   \n",
      "MSE:                                                                                 \n",
      "0.12582831467317238                                                                  \n",
      "R-squared (R²):                                                                      \n",
      "0.8063333128034038                                                                   \n",
      "MSE:                                                                                 \n",
      "0.15274519915842297                                                                  \n",
      "R-squared (R²):                                                                      \n",
      "0.7649046100392287                                                                   \n",
      "MSE:                                                                                 \n",
      "0.1356294127172307                                                                   \n",
      "R-squared (R²):                                                                      \n",
      "0.7912481056780276                                                                   \n",
      "MSE:                                                                                 \n",
      "0.1383885950277962                                                                   \n",
      "R-squared (R²):                                                                      \n",
      "0.7870013532769752                                                                   \n",
      "MSE:                                                                                 \n",
      "0.1552683801709773                                                                   \n",
      "R-squared (R²):                                                                      \n",
      "0.7610210953536193                                                                   \n",
      "MSE:                                                                                 \n",
      "0.1320252257495321                                                                   \n",
      "R-squared (R²):                                                                      \n",
      "0.7967954338122742                                                                   \n",
      "MSE:                                                                                 \n",
      "0.1490429497098551                                                                   \n",
      "R-squared (R²):                                                                      \n",
      "0.7706028695108105                                                                   \n",
      "MSE:                                                                                 \n",
      "0.15371241278161113                                                                  \n",
      "R-squared (R²):                                                                      \n",
      "0.7634159382827898                                                                   \n",
      "MSE:                                                                                 \n",
      "0.1293891692074522                                                                   \n",
      "R-squared (R²):                                                                      \n",
      "0.8008526791079261                                                                   \n",
      "MSE:                                                                                 \n",
      "0.13820831268687345                                                                  \n",
      "R-squared (R²):                                                                      \n",
      "0.7872788320290132                                                                   \n",
      "MSE:                                                                                 \n",
      "0.10322563014527399                                                                  \n",
      "R-squared (R²):                                                                      \n",
      "0.841121882018828                                                                    \n",
      "MSE:                                                                                 \n",
      "0.13545128871721152                                                                  \n",
      "R-squared (R²):                                                                      \n",
      "0.791522262453341                                                                    \n",
      "MSE:                                                                                 \n",
      "0.13393029944108611                                                                  \n",
      "R-squared (R²):                                                                      \n",
      "0.7938632693652897                                                                   \n",
      "MSE:                                                                                 \n",
      "0.14528286094226353                                                                  \n",
      "R-squared (R²):                                                                      \n",
      "0.7763901514677851                                                                   \n",
      "MSE:                                                                                 \n",
      "0.1043711428842076                                                                   \n",
      "R-squared (R²):                                                                      \n",
      "0.839358783960438                                                                    \n",
      "MSE:                                                                                 \n",
      "0.07864312464226227                                                                  \n",
      "R-squared (R²):                                                                      \n",
      "0.8789576617964254                                                                   \n",
      "MSE:                                                                                 \n",
      "0.12035784037415567                                                                  \n",
      "R-squared (R²):                                                                      \n",
      "0.8147531079634718                                                                   \n",
      "MSE:                                                                                 \n",
      "0.12060217727068058                                                                  \n",
      "R-squared (R²):                                                                      \n",
      "0.814377040641639                                                                    \n",
      "MSE:                                                                                 \n",
      "0.1492015208273368                                                                   \n",
      "R-squared (R²):                                                                      \n",
      "0.7703588072495657                                                                   \n",
      "MSE:                                                                                 \n",
      "0.1291583410256913                                                                   \n",
      "R-squared (R²):                                                                      \n",
      "0.80120795470221                                                                     \n",
      "MSE:                                                                                 \n",
      "0.14510836263202498                                                                  \n",
      "R-squared (R²):                                                                      \n",
      "0.7766587278192454                                                                   \n",
      "MSE:                                                                                 \n",
      "0.14438078214604835                                                                  \n",
      "R-squared (R²):                                                                      \n",
      "0.7777785719716047                                                                   \n",
      "MSE:                                                                                 \n",
      "0.16560163327908436                                                                  \n",
      "R-squared (R²):                                                                      \n",
      "0.7451168300647693                                                                   \n",
      "MSE:                                                                                 \n",
      "0.17297192706925277                                                                  \n",
      "R-squared (R²):                                                                      \n",
      "0.7337729573782834                                                                   \n",
      "MSE:                                                                                 \n",
      "0.05585282851419514                                                                  \n",
      "R-squared (R²):                                                                      \n",
      "0.9140349904788958                                                                   \n",
      "MSE:                                                                                 \n",
      "0.0891708380717181                                                                   \n",
      "R-squared (R²):                                                                      \n",
      "0.8627540959381875                                                                   \n",
      "MSE:                                                                                 \n",
      "0.12200514864928057                                                                  \n",
      "R-squared (R²):                                                                      \n",
      "0.8122176791352018                                                                   \n",
      "MSE:                                                                                 \n",
      "0.07422432766875778                                                                  \n",
      "R-squared (R²):                                                                      \n",
      "0.8857587842105319                                                                   \n",
      "MSE:                                                                                 \n",
      "0.10322049004012067                                                                  \n",
      "R-squared (R²):                                                                      \n",
      "0.8411297933314723                                                                   \n",
      "100%|██████████| 150/150 [13:36<00:00,  5.44s/trial, best loss: 0.038545925751105194]\n",
      "The best hyperparameters are:  {'colsample_bytree': 0.8745337017330201, 'gamma': 0.0011423259694531146, 'max_depth': 13.0, 'min_child_weight': 6.0, 'reg_alpha': 1.0, 'reg_lambda': 0.3981804795282306}\n"
     ]
    }
   ],
   "source": [
    "# Run the hyperparameter optimization\n",
    "trials = Trials()\n",
    "\n",
    "best_hyperparams = fmin(fn=objective,\n",
    "                        space=space,\n",
    "                        algo=tpe.suggest,\n",
    "                        max_evals=150,\n",
    "                        trials=trials)\n",
    "\n",
    "print(\"The best hyperparameters are: \", best_hyperparams)"
   ]
  },
  {
   "cell_type": "code",
   "execution_count": 50,
   "metadata": {
    "execution": {
     "iopub.execute_input": "2024-12-26T05:34:58.989971Z",
     "iopub.status.busy": "2024-12-26T05:34:58.989677Z",
     "iopub.status.idle": "2024-12-26T05:35:12.985999Z",
     "shell.execute_reply": "2024-12-26T05:35:12.985225Z",
     "shell.execute_reply.started": "2024-12-26T05:34:58.989948Z"
    },
    "trusted": true
   },
   "outputs": [
    {
     "name": "stdout",
     "output_type": "stream",
     "text": [
      "Best Model MSE: 0.038545925751105194\n",
      "Best Model R-squared (R²): 0.9406726398225047\n"
     ]
    }
   ],
   "source": [
    "best_model = xgb.XGBRegressor(\n",
    "    n_estimators=180,\n",
    "    max_depth=int(best_hyperparams['max_depth']),\n",
    "    gamma=best_hyperparams['gamma'],\n",
    "    reg_alpha=int(best_hyperparams['reg_alpha']),\n",
    "    reg_lambda=best_hyperparams['reg_lambda'],\n",
    "    min_child_weight=int(best_hyperparams['min_child_weight']),\n",
    "    colsample_bytree=best_hyperparams['colsample_bytree'],\n",
    "    seed=42\n",
    ")\n",
    "\n",
    "best_model.fit(X_train, y_train)\n",
    "\n",
    "# Predict on the test set\n",
    "y_test_pred = best_model.predict(X_test)\n",
    "\n",
    "# Evaluate the model\n",
    "mse = mean_squared_error(y_test, y_test_pred)\n",
    "r2 = r2_score(y_test, y_test_pred)\n",
    "print(\"Best Model MSE:\", mse)\n",
    "print(\"Best Model R-squared (R²):\", r2)"
   ]
  },
  {
   "cell_type": "code",
   "execution_count": 52,
   "metadata": {
    "execution": {
     "iopub.execute_input": "2024-12-26T05:37:49.745208Z",
     "iopub.status.busy": "2024-12-26T05:37:49.744857Z",
     "iopub.status.idle": "2024-12-26T05:37:50.367896Z",
     "shell.execute_reply": "2024-12-26T05:37:50.367201Z",
     "shell.execute_reply.started": "2024-12-26T05:37:49.745177Z"
    },
    "trusted": true
   },
   "outputs": [
    {
     "name": "stdout",
     "output_type": "stream",
     "text": [
      "--------- For Model:  XGBoost  -----Train---\n",
      "\n",
      "Mean Absolute Error (MAE):  0.049262234561550586\n",
      "Mean Squared Error (MSE):  0.007100107115199131\n",
      "R-squared (R²):  0.9888127875542557\n",
      "--------- For Model:  XGBoost  -----Test---\n",
      "\n",
      "Mean Absolute Error (MAE):  0.10517485014305009\n",
      "Mean Squared Error (MSE):  0.038545925751105194\n",
      "R-squared (R²):  0.9406726398225047\n"
     ]
    }
   ],
   "source": [
    "print_evaluation_metrics(best_model, \"XGBoost\", X_train, y_train,\"Train\")\n",
    "print_evaluation_metrics(best_model, \"XGBoost\", X_test, y_test,\"Test\")"
   ]
  },
  {
   "cell_type": "code",
   "execution_count": 12,
   "metadata": {
    "execution": {
     "iopub.execute_input": "2024-12-26T07:00:23.468127Z",
     "iopub.status.busy": "2024-12-26T07:00:23.467804Z",
     "iopub.status.idle": "2024-12-26T07:04:25.274489Z",
     "shell.execute_reply": "2024-12-26T07:04:25.273336Z",
     "shell.execute_reply.started": "2024-12-26T07:00:23.468101Z"
    },
    "trusted": true
   },
   "outputs": [
    {
     "name": "stdout",
     "output_type": "stream",
     "text": [
      "--------- For Model:  MLP  -----Train---\n",
      "\n",
      "Mean Absolute Error (MAE):  0.0900523387425658\n",
      "Mean Squared Error (MSE):  0.020718133414216307\n",
      "R-squared (R²):  0.967355681227971\n",
      "--------- For Model:  MLP  -----Test---\n",
      "\n",
      "Mean Absolute Error (MAE):  0.13049473391888264\n",
      "Mean Squared Error (MSE):  0.05192736287994809\n",
      "R-squared (R²):  0.9200768096597641\n"
     ]
    }
   ],
   "source": [
    "from sklearn.neural_network import MLPRegressor\n",
    "mlp = MLPRegressor(hidden_layer_sizes=(128,64, 32), activation='relu', solver='adam', max_iter=500, random_state=42,\n",
    "                validation_fraction=0.1, early_stopping = True,alpha = 0.001)\n",
    "mlp.fit(X_train_lasso, y_train)\n",
    "print_evaluation_metrics(mlp, \"MLP\", X_train_lasso, y_train,\"Train\")\n",
    "print_evaluation_metrics(mlp, \"MLP\", X_test_lasso, y_test,\"Test\")"
   ]
  },
  {
   "cell_type": "code",
   "execution_count": null,
   "metadata": {
    "trusted": true
   },
   "outputs": [],
   "source": []
  }
 ],
 "metadata": {
  "kaggle": {
   "accelerator": "nvidiaTeslaT4",
   "dataSources": [
    {
     "datasetId": 6374665,
     "sourceId": 10299040,
     "sourceType": "datasetVersion"
    }
   ],
   "dockerImageVersionId": 30823,
   "isGpuEnabled": true,
   "isInternetEnabled": true,
   "language": "python",
   "sourceType": "notebook"
  },
  "kernelspec": {
   "display_name": "Python 3",
   "language": "python",
   "name": "python3"
  },
  "language_info": {
   "codemirror_mode": {
    "name": "ipython",
    "version": 3
   },
   "file_extension": ".py",
   "mimetype": "text/x-python",
   "name": "python",
   "nbconvert_exporter": "python",
   "pygments_lexer": "ipython3",
   "version": "3.10.12"
  }
 },
 "nbformat": 4,
 "nbformat_minor": 4
}
